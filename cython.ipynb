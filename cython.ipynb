{
 "cells": [
  {
   "cell_type": "code",
   "execution_count": null,
   "metadata": {
    "collapsed": true
   },
   "outputs": [],
   "source": [
    "%load_ext cython"
   ]
  },
  {
   "cell_type": "code",
   "execution_count": null,
   "metadata": {
    "collapsed": true
   },
   "outputs": [],
   "source": [
    "%%cython\n",
    "\n",
    "# Куда же без Hello World?\n",
    "\n",
    "print('Hello, World!')"
   ]
  },
  {
   "cell_type": "code",
   "execution_count": null,
   "metadata": {
    "collapsed": true,
    "scrolled": false
   },
   "outputs": [],
   "source": [
    "%%cython -a\n",
    "\n",
    "import cython\n",
    "\n",
    "# О типизации, встроенных питонячьих операциях, и -a\n",
    "\n",
    "def mult(a, b):\n",
    "    # PyNumber_Multiply\n",
    "    return a * b\n",
    "\n",
    "def mult_1(int a, int b):\n",
    "    # __Pyx_PyInt_From_int\n",
    "    return a * b\n",
    "\n",
    "cpdef int mult_2(int a, int b):\n",
    "    return a * b\n",
    "\n",
    "import cython\n",
    "\n",
    "@cython.cdivision\n",
    "cdef double d_1(double v1, double v2):\n",
    "    return v1 / v2\n",
    "\n",
    "def h():\n",
    "    return d_1(1, 0)\n"
   ]
  },
  {
   "cell_type": "code",
   "execution_count": null,
   "metadata": {
    "collapsed": true
   },
   "outputs": [],
   "source": [
    "%%cython\n",
    "\n",
    "# def vs cdef vs cpdef\n",
    "# Обратить внимание, что def всегда принимают на вход PyObject* (object)\n",
    "# Не принимают указатели и любые типы, которые Cython не сможет скастить в PyObject\n",
    "# cdef / cpdef МОГУТ принимать тип PyObject*, но получают гораздо больший профит от C - типизации\n",
    "\n",
    "# У def можно указывать входные, но нельзя выходные - всегда возвращается PyObject*\n",
    "\n",
    "def x(char* a):\n",
    "    pass\n",
    "\n",
    "cdef x_1(int* a):\n",
    "    pass\n",
    "\n",
    "x(b'1')"
   ]
  },
  {
   "cell_type": "code",
   "execution_count": null,
   "metadata": {
    "collapsed": true
   },
   "outputs": [],
   "source": [
    "%%cython -a\n",
    "\n",
    "# Переполнение int и скорость работы\n",
    "# def - функции всегда работают с объектами, и статическая типизация не дает нам выигрыша\n",
    "# с int работаем безопасно, но медленно\n",
    "\n",
    "def py_fact_1(n):\n",
    "    if n <= 1:\n",
    "        return 1\n",
    "    return n * py_fact_1(n - 1)\n",
    "\n",
    "def py_fact_2(long n):\n",
    "    if n <= 1:\n",
    "        return 1\n",
    "    return n * py_fact_2(n - 1)\n",
    "\n",
    "cpdef long py_fact_3(long n):\n",
    "    if n <= 1:\n",
    "        return 1\n",
    "    return n * py_fact_3(n - 1)\n",
    "\n",
    "def py_fact_4(int n):\n",
    "    if n <= 1:\n",
    "        return 1\n",
    "    return n * py_fact_4(n - 1)\n",
    "\n",
    "print(py_fact_3(21))\n",
    "print(py_fact_4(21))"
   ]
  },
  {
   "cell_type": "code",
   "execution_count": null,
   "metadata": {
    "collapsed": true
   },
   "outputs": [],
   "source": [
    "%%cython\n",
    "\n",
    "# Работа с указателями\n",
    "# Не стоит указывать одновременно указатели и переменные\n",
    "\n",
    "cdef int *a, b, c\n",
    "b = 1"
   ]
  },
  {
   "cell_type": "code",
   "execution_count": null,
   "metadata": {
    "collapsed": true
   },
   "outputs": [],
   "source": [
    "%%cython\n",
    "\n",
    "# Работа с указателями\n",
    "# Так как * уже зарезрвирован под работу с *args и **kwargs, для разыменовывания используется оператор [0]\n",
    "# Для операции взятия адреса используется &\n",
    "\n",
    "cdef: \n",
    "    int a\n",
    "    int *b\n",
    "\n",
    "b = &a\n",
    "b[0] = 1\n",
    "\n",
    "print(a)"
   ]
  },
  {
   "cell_type": "code",
   "execution_count": null,
   "metadata": {
    "collapsed": true
   },
   "outputs": [],
   "source": [
    "%timeit py_fact_3(21)"
   ]
  },
  {
   "cell_type": "code",
   "execution_count": null,
   "metadata": {
    "collapsed": true
   },
   "outputs": [],
   "source": [
    "%%cython\n",
    "\n",
    "# Работа со строками\n",
    "# Если вы не знаете на 100%, что вы делаете - пользуйтесь Python-строками\n",
    "# Либо CPP-строками\n",
    "# В большинстве случаев они быстрее аллоцируют память чем *char строки\n",
    "\n",
    "cpdef test_str(str a):\n",
    "    cdef Py_UNICODE* b = a\n",
    "    print(b)\n",
    "    print(len(b))\n",
    "\n",
    "cpdef test_str_1(bytes a):\n",
    "    cdef char* b = a\n",
    "#     cdef str c = b Nope\n",
    "    cdef bytes c = b\n",
    "    print(c)\n",
    "    cdef str d = c.decode()\n",
    "    print(d)"
   ]
  },
  {
   "cell_type": "code",
   "execution_count": null,
   "metadata": {
    "collapsed": true
   },
   "outputs": [],
   "source": [
    "test_str('Привет')\n",
    "test_str_1('Привет'.encode())"
   ]
  },
  {
   "cell_type": "code",
   "execution_count": null,
   "metadata": {
    "collapsed": true
   },
   "outputs": [],
   "source": [
    "%%cython -+\n",
    "\n",
    "from libcpp.string cimport string\n",
    "\n",
    "cpdef test_str_2(string s):\n",
    "    print(s)\n",
    "    \n",
    "test_str_2(b'123')"
   ]
  },
  {
   "cell_type": "code",
   "execution_count": null,
   "metadata": {
    "collapsed": true
   },
   "outputs": [],
   "source": [
    "%%cython\n",
    "\n",
    "# Преобразование словарей / таплов\n",
    "\n",
    "cdef struct _inner:\n",
    "    int inner_a\n",
    "\n",
    "cdef struct nested:\n",
    "    int outer_a\n",
    "    _inner inner\n",
    "    \n",
    "cpdef dict test_map():\n",
    "    cdef nested result = {'outer_a': 1, 'inner': {'inner_a': 2}}\n",
    "    return result\n",
    "\n",
    "ctypedef struct tpl:\n",
    "    int a\n",
    "    int b\n",
    "    \n",
    "    \n",
    "ctypedef union u:\n",
    "    int a\n",
    "    float b\n",
    "\n",
    "print(test_map())\n",
    "cdef tpl k = tpl(a=1, b=1)\n",
    "cdef tpl l = tpl(1, 2)\n",
    "l.a = 2\n",
    "\n",
    "cdef p = u(a=1.0)\n",
    "print(p)"
   ]
  },
  {
   "cell_type": "code",
   "execution_count": null,
   "metadata": {
    "collapsed": true
   },
   "outputs": [],
   "source": [
    "%%cython\n",
    "\n",
    "# generic-функции (fused-типы, сейчас в стадии тестирования)\n",
    "\n",
    "ctypedef fused int_or_float:\n",
    "    int\n",
    "    float\n",
    "\n",
    "cpdef incr(int_or_float val):\n",
    "    return val + 1\n",
    "\n",
    "print(incr(1))\n",
    "print(incr(2.0))"
   ]
  },
  {
   "cell_type": "code",
   "execution_count": null,
   "metadata": {
    "collapsed": true
   },
   "outputs": [],
   "source": [
    "%%cython\n",
    "\n",
    "cimport cython\n",
    "\n",
    "# Если функция принимает несколько fused-параметров одного fused-типа, их базовый тип будет приведен\n",
    "\n",
    "ctypedef fused int_or_float:\n",
    "    int\n",
    "    float\n",
    "\n",
    "cdef add(int_or_float a, int_or_float b):\n",
    "    print(cython.typeof(a))\n",
    "    print(cython.typeof(b))\n",
    "    return a + b\n",
    "\n",
    "print(add(1, 1.0))"
   ]
  },
  {
   "cell_type": "code",
   "execution_count": null,
   "metadata": {
    "collapsed": true
   },
   "outputs": [],
   "source": [
    "%%cython\n",
    "\n",
    "# Эффективные циклы и динамические массивы\n",
    "# Cython поддерживает обычную нотацию for .. in, но требует явного указания для итерируемой переменной\n",
    "\n",
    "from libc.stdlib cimport malloc, free\n",
    "from libc.string cimport memset\n",
    "\n",
    "import random\n",
    "\n",
    "cpdef list dynamic_arr(int N):\n",
    "    cdef list result = []\n",
    "    # Обратить внимание, что в C каст идет через ()\n",
    "    cdef long *arr = <long*>malloc(N * sizeof(long))\n",
    "    \n",
    "    # Обязательно проверяем, хватило ли нам памяти\n",
    "    if not arr:\n",
    "        raise MemoryError\n",
    "    \n",
    "    try:\n",
    "        # Заполняем массив нулями\n",
    "        memset(arr, 0, N * sizeof(long))\n",
    "\n",
    "        for i in range(N):\n",
    "            result.append(arr[i])\n",
    "        \n",
    "    finally:\n",
    "        # После работы с памятью нужно не забывать ее очищать\n",
    "        free(arr)\n",
    "    \n",
    "    return result\n",
    "\n",
    "\n",
    "cpdef list square(int N):\n",
    "    cdef:\n",
    "        long *arr = <long*>malloc(N * sizeof(long))\n",
    "        int i\n",
    "    \n",
    "    try:\n",
    "        for i in range(N):\n",
    "            arr[i] = i * i\n",
    "        return [x for x in arr[:N]]\n",
    "    finally:\n",
    "        free(arr)\n",
    "\n",
    "print(dynamic_arr(10))\n",
    "print(square(10))\n",
    "print(python_alloc(10))"
   ]
  },
  {
   "cell_type": "code",
   "execution_count": null,
   "metadata": {
    "collapsed": true
   },
   "outputs": [],
   "source": [
    "%%cython\n",
    "\n",
    "from cpython.mem cimport PyMem_Malloc, PyMem_Free\n",
    "\n",
    "# Но лучше пользоваться питонячьими аллокаторами, \n",
    "# которые могут выделять уже имеющуюся память, и более эффективны в большинстве случаев\n",
    "# PyMem_Malloc возвращает указатель на сырую память void*, его нужно кастить так же, как и malloc\n",
    "\n",
    "import random\n",
    "\n",
    "cpdef list python_alloc(int N):\n",
    "    cdef:\n",
    "        long *arr = <long*> PyMem_Malloc(N * sizeof(long))\n",
    "        int i\n",
    "    \n",
    "    try:\n",
    "        for i in range(N):\n",
    "            arr[i] = random.randint(0, N)\n",
    "            print(arr[i])\n",
    "        return [x for x in arr[:N]]\n",
    "    finally:\n",
    "        PyMem_Free(arr)\n",
    "        \n",
    "print(python_alloc(10))\n",
    "    "
   ]
  },
  {
   "cell_type": "code",
   "execution_count": null,
   "metadata": {
    "collapsed": true
   },
   "outputs": [],
   "source": [
    "%%cython\n",
    "\n",
    "# Работа с буферами пошла из NumPy и синтаксис очень похож\n",
    "\n",
    "# А еще лучше - пользоваться интерфейсом буферов\n",
    "cdef int c_array[3]\n",
    "# Установка элементов массива\n",
    "c_array[:] = [1, 2, 3]\n",
    "\n",
    "print(c_array)\n",
    "\n",
    "# Буфер - memory view\n",
    "cdef int[:] buf = c_array\n",
    "\n",
    "print(buf)\n",
    "\n",
    "# Работа с исходным массивом через memory-view [...]\n",
    "buf[...] = 1\n",
    "\n",
    "print(c_array)\n",
    "\n",
    "# ... или [:]\n",
    "\n",
    "buf[:] = 2\n",
    "\n",
    "print(c_array)\n",
    "\n",
    "# Несколько измерений\n",
    "\n",
    "cdef int c_array2[3][3]\n",
    "cdef int[:, :] buf2 = c_array2\n",
    "\n",
    "buf2[:, 1] = 1\n",
    "print(c_array2)\n",
    "\n",
    "\n",
    "# Динамические массивы\n",
    "from cpython.mem cimport PyMem_Malloc, PyMem_Free\n",
    "\n",
    "cdef int *c_array3 = <int*>PyMem_Malloc(3 * sizeof(int))\n",
    "# Не сработает, нужно явно кастить типы\n",
    "# cdef int[:] buf3 = c_array3\n",
    "cdef int[::1] buf3 = <int[:3]>c_array3  # ::1 - это C - нотация для работы с массивами.\n",
    "print(list(buf3)) # Мусорные значения из памяти"
   ]
  },
  {
   "cell_type": "code",
   "execution_count": null,
   "metadata": {
    "collapsed": true
   },
   "outputs": [],
   "source": [
    "%%cython -+ -a\n",
    "\n",
    "# -+ или -cplus - генерация C++ кода\n",
    "\n",
    "from libcpp.vector cimport vector\n",
    "\n",
    "# Работа с массивами CPP\n",
    "# Вызов sum() приводит к обратному переводу vector -> PyObject*!\n",
    "# Типизация list_test убирает конвертацию возвращаемого значения C -> PyObject\n",
    "\n",
    "cpdef int list_test(list a):\n",
    "    cdef vector[int] b\n",
    "    b = a\n",
    "    \n",
    "    cdef:\n",
    "        int i\n",
    "        int result = 0\n",
    "    \n",
    "    for i in range(b.size()):\n",
    "        result += i\n",
    "    \n",
    "    return result\n",
    "\n",
    "cpdef int list_test_2(vector[int] a):\n",
    "    return sum(a)\n",
    "\n",
    "\n",
    "cdef int list_test_3(vector[int] a):\n",
    "    return sum(a)\n",
    "\n",
    "\n",
    "def list_test_3_wrap(list a):\n",
    "    return list_test_3(a)\n",
    "    \n",
    "    \n",
    "print(list_test([1, 2, 3]))\n",
    "print(list_test_2([1, 2, 3]))\n",
    "print(list_test_3_wrap([1, 2, 3]))\n",
    "\n",
    "# Безопасное преобразование типов\n",
    "# print(list_test_2([1, 2, 3, '3']))"
   ]
  },
  {
   "cell_type": "code",
   "execution_count": null,
   "metadata": {
    "collapsed": true
   },
   "outputs": [],
   "source": [
    "%%cython -a\n",
    "\n",
    "# Обработка ошибок\n",
    "\n",
    "cpdef int divide_ints_1(int i, int j):\n",
    "    return i // j\n",
    "\n",
    "cpdef int divide_ints_2(int i, int j) except? -1:\n",
    "    return i // j\n",
    "\n",
    "cpdef int strange() except -1:\n",
    "    # except ? проверяет, установлен ли глобальный флаг обработки ошибки\n",
    "    # так как значение -1 может быть валидным для функции\n",
    "    return -1\n",
    "\n",
    "cpdef void strange_2() except *:\n",
    "    # Для функций, не возвращающих результат (void) единственный способ узнать, \n",
    "    # что произошла ошибка - except * \n",
    "    cdef int a = 1\n",
    "    cdef int b = 0\n",
    "    cdef double c = a / b\n",
    "\n",
    "    \n",
    "# Для обработки исключений CPP используется except +"
   ]
  },
  {
   "cell_type": "code",
   "execution_count": null,
   "metadata": {
    "collapsed": true
   },
   "outputs": [],
   "source": [
    "# print(divide_ints_1(1, 0))\n",
    "# print(divide_ints_2(1, 0))\n",
    "strange_2()"
   ]
  },
  {
   "cell_type": "code",
   "execution_count": null,
   "metadata": {
    "collapsed": true
   },
   "outputs": [],
   "source": [
    "%%cython\n",
    "\n",
    "# Еще о безопасных кастах типов\n",
    "\n",
    "def test_list(a):\n",
    "    # TypeError / SystemError\n",
    "    cdef list cast_list = <list?>a\n",
    "    print(type(a))\n",
    "    print(type(cast_list))\n",
    "    cast_list.append(1)\n",
    "    \n",
    "\n",
    "def test_list_2(list a not None):\n",
    "    # not None проверка для def - функций\n",
    "    # в cdef делаем вручную\n",
    "    print(len(a))\n",
    "\n",
    "# И немного наркомании для работы с указателем на сырую память\n",
    "def print_address(a):\n",
    "    cdef void *v = <void*>a\n",
    "    cdef long addr = <long>v\n",
    "    print(\"Cython address:\", addr)\n",
    "    print(\"Python id     :\", id(a))\n"
   ]
  },
  {
   "cell_type": "code",
   "execution_count": null,
   "metadata": {
    "collapsed": true
   },
   "outputs": [],
   "source": [
    "print_address(1)"
   ]
  },
  {
   "cell_type": "code",
   "execution_count": null,
   "metadata": {
    "collapsed": true
   },
   "outputs": [],
   "source": [
    "%%cython \n",
    "# extensions\n",
    "\n",
    "cdef class TestObject:\n",
    "    cdef long a\n",
    "    cdef public double b\n",
    "    cdef readonly str c"
   ]
  },
  {
   "cell_type": "code",
   "execution_count": null,
   "metadata": {
    "collapsed": true
   },
   "outputs": [],
   "source": [
    "k = TestObject(1, 2.0, b'hello', 1, 6, 7)"
   ]
  },
  {
   "cell_type": "code",
   "execution_count": null,
   "metadata": {
    "collapsed": true
   },
   "outputs": [],
   "source": [
    "k.b = 1.0"
   ]
  },
  {
   "cell_type": "code",
   "execution_count": null,
   "metadata": {
    "collapsed": true
   },
   "outputs": [],
   "source": [
    "%%cython\n",
    "\n",
    "from cpython.mem cimport PyMem_Malloc, PyMem_Free\n",
    "\n",
    "# cinit\n",
    "# Cython гарантирует, что __cinit__ вызывается ровно один раз\n",
    "\n",
    "cdef class Matrix:\n",
    "    cdef:\n",
    "        unsigned long long nrows, ncols\n",
    "        double *_matrix\n",
    "        public double[:, ::1] matrix\n",
    "    def __cinit__(self, long nr, long nc):\n",
    "        self.nrows = nr\n",
    "        self.ncols = nc\n",
    "        \n",
    "        self._matrix = <double*>PyMem_Malloc(nr * nc * sizeof(double))\n",
    "        \n",
    "        if self._matrix == NULL:\n",
    "            raise MemoryError()\n",
    "            \n",
    "        self.matrix = <double[:self.nrows, :self.ncols]>self._matrix\n",
    "        self.matrix[...] = 0\n",
    "        \n",
    "    def __dealloc__(self):\n",
    "        if self._matrix != NULL:\n",
    "            PyMem_Free(self._matrix)\n",
    "            \n",
    "    cpdef double calc_sum(self):\n",
    "        cdef double result\n",
    "        \n",
    "        for i in range(self.nrows):\n",
    "            for j in range(self.ncols):\n",
    "                result += self.matrix[i, j]\n",
    "                \n",
    "        return result\n",
    "    \n",
    "    cpdef void set_item(self, long row, long col, double val):\n",
    "            \n",
    "        self.matrix[row, col] = val\n",
    "        \n",
    "        \n",
    "def dispatch(Matrix m not None):\n",
    "    return m.calc_sum()"
   ]
  },
  {
   "cell_type": "code",
   "execution_count": null,
   "metadata": {
    "collapsed": true
   },
   "outputs": [],
   "source": [
    "a = Matrix(10, 10)\n",
    "a.set_item(1, 1, 10)\n",
    "# a.calc_sum()\n",
    "a.matrix[5][5] = 5\n",
    "# a.calc_sum()\n",
    "\n",
    "\n",
    "# Как получить segfault в Cython?\n",
    "dispatch(None) # segfault"
   ]
  },
  {
   "cell_type": "code",
   "execution_count": 12,
   "metadata": {},
   "outputs": [
    {
     "name": "stdout",
     "output_type": "stream",
     "text": [
      "3025\n"
     ]
    }
   ],
   "source": [
    "%%cython\n",
    "\n",
    "# Работаем с inline C - кодом в докстрингах\n",
    "\n",
    "cdef extern from *:\n",
    "    \"\"\"\n",
    "    static long square(long x) {return x * x;}\n",
    "    \"\"\"\n",
    "    long square(long x)\n",
    "    \n",
    "\n",
    "cdef long a = square(55)\n",
    "print(a)"
   ]
  },
  {
   "cell_type": "code",
   "execution_count": null,
   "metadata": {
    "collapsed": true
   },
   "outputs": [],
   "source": [
    "%%cython\n",
    "\n",
    "from libc.stdlib cimport strtol\n",
    "from libc.string cimport strncpy , strlen\n",
    "\n",
    "from libc.stdlib cimport malloc\n",
    "# ( char * destination, const char * source, size_t num );\n",
    "\n",
    "cdef enum redis_types:\n",
    "    PLUS = b'+' # string\n",
    "    MINUS = b'-' # error\n",
    "    DOLLAR = b'$' # bytestring\n",
    "    ASTERISK = b'*' # array\n",
    "    DOTDOT = b':' # integer\n",
    "    PERCENT = b'%' # dict\n",
    "    CR = b'\\r'\n",
    "\n",
    "cdef extern from *:\n",
    "    \"\"\"\n",
    "    char * substr(char * s, int x, int y)\n",
    "    {\n",
    "    char * ret = malloc(strlen(s) + 1);\n",
    "    char * p = ret;\n",
    "    char * q = &s[x];\n",
    "\n",
    "    while(x  < y)\n",
    "    {\n",
    "        *p++ = *q++;\n",
    "        x ++; \n",
    "    }\n",
    "\n",
    "    *p++ = '\\0';\n",
    "\n",
    "    return ret;\n",
    "    }\n",
    "    \"\"\"\n",
    "    char * substr(char * s, int x, int y)\n",
    "\n",
    "cdef long parse_int(char* s):\n",
    "    cdef:\n",
    "        long pos = 1\n",
    "        char* res\n",
    "        \n",
    "    while s[pos] != redis_types.CR:\n",
    "        pos += 1\n",
    "    \n",
    "    return strtol(substr(s, 1, pos), NULL, 10)\n",
    "\n",
    "cdef char * parse_bytes(char* s):\n",
    "    return substr(s, 1, strlen(s) - 1)\n",
    "\n",
    "cpdef parse(char* s):\n",
    "    cdef long pos = 0\n",
    "    if s[pos] == redis_types.PLUS:\n",
    "        return parse_bytes(s)\n",
    "    elif s[pos] == redis_types.DOTDOT:\n",
    "        return parse_int(s)"
   ]
  },
  {
   "cell_type": "code",
   "execution_count": null,
   "metadata": {
    "collapsed": true
   },
   "outputs": [],
   "source": [
    "# %%cython\n",
    "def parse_resp(f):\n",
    "    \n",
    "    b = f.read(1)\n",
    "    \n",
    "    if b == b'*':\n",
    "        data = f.readline()\n",
    "        l = int(data[:-2])\n",
    "        arr_res = []\n",
    "        for i in range(l):\n",
    "            arr_res.append(parse_resp(f))\n",
    "        return arr_res\n",
    "    \n",
    "    if b == b'+':\n",
    "        data = f.readline()\n",
    "        return data[:-2]\n",
    "    \n",
    "    elif b == b'-':\n",
    "        data = f.readline()\n",
    "        raise Exception(data[:-2])\n",
    "\n",
    "    elif b == b':':\n",
    "        data = f.readline()\n",
    "        return int(data[:-2])\n",
    "    \n",
    "    elif b == b'$':\n",
    "        data = f.readline()\n",
    "        l = int(data[:-2])\n",
    "        data = f.read(l)\n",
    "        f.readline()\n",
    "        return data"
   ]
  },
  {
   "cell_type": "code",
   "execution_count": null,
   "metadata": {
    "collapsed": true
   },
   "outputs": [],
   "source": [
    "%%cython\n",
    "\n",
    "import socket\n",
    "\n",
    "cdef CRLF = b'\\r\\n'\n",
    "\n",
    "from libc.stdlib cimport strtol\n",
    "\n",
    "\n",
    "cdef long parse_int(char* s):\n",
    "    return strtol(s, NULL, 10)\n",
    "            \n",
    "cpdef parse_resp_c(object f):\n",
    "    cdef:\n",
    "        bytes b, data\n",
    "        cdef int i\n",
    "        cdef list arr_res\n",
    "    \n",
    "    b = f.read(1)\n",
    "    \n",
    "    if b == b'*':\n",
    "        data = f.readline()\n",
    "        l = parse_int(data[:-2])\n",
    "        arr_res = []\n",
    "        for i in range(l):\n",
    "            arr_res.append(parse_resp_c(f))\n",
    "        return arr_res\n",
    "    \n",
    "    if b == b'+':\n",
    "        data = f.readline()\n",
    "        return data[:-2]\n",
    "    \n",
    "    elif b == b'-':\n",
    "        data = f.readline()\n",
    "        raise Exception(data[:-2])\n",
    "\n",
    "    elif b == b':':\n",
    "        data = f.readline()\n",
    "        return parse_int(data[:-2])\n",
    "    \n",
    "    elif b == b'$':\n",
    "        data = f.readline()\n",
    "        l = parse_int(data[:-2])\n",
    "        # Читаем\n",
    "        data = f.read(l)\n",
    "        f.readline()\n",
    "        return data\n",
    " "
   ]
  },
  {
   "cell_type": "code",
   "execution_count": null,
   "metadata": {
    "collapsed": true
   },
   "outputs": [],
   "source": [
    "d = BytesIO(b'*4\\r\\n:100\\r\\n+PONG\\r\\n$6\\r\\nPONG\\r\\n\\r\\n:1000\\r\\n')\n",
    "d.seek(0)\n",
    "%timeit parse_resp_c(d)\n",
    "d.seek(0)\n",
    "%timeit parse_resp(d)"
   ]
  },
  {
   "cell_type": "code",
   "execution_count": 16,
   "metadata": {},
   "outputs": [
    {
     "name": "stdout",
     "output_type": "stream",
     "text": [
      "b'+OK\\r\\n'\n"
     ]
    }
   ],
   "source": [
    "import socket\n",
    "\n",
    "sock = socket.socket(socket.AF_INET, socket.SOCK_STREAM)\n",
    "sock.connect(('localhost', 6379))\n",
    "sock_f = sock.makefile('rb')\n",
    "            \n",
    "sock.send(b'SET B 1\\r\\n')\n",
    "print(sock_f.readline())"
   ]
  },
  {
   "cell_type": "code",
   "execution_count": null,
   "metadata": {
    "collapsed": true
   },
   "outputs": [],
   "source": []
  }
 ],
 "metadata": {
  "kernelspec": {
   "display_name": "Python 3",
   "language": "python",
   "name": "python3"
  },
  "language_info": {
   "codemirror_mode": {
    "name": "ipython",
    "version": 3
   },
   "file_extension": ".py",
   "mimetype": "text/x-python",
   "name": "python",
   "nbconvert_exporter": "python",
   "pygments_lexer": "ipython3",
   "version": "3.6.5"
  }
 },
 "nbformat": 4,
 "nbformat_minor": 2
}
